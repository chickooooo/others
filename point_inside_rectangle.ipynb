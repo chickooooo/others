{
 "cells": [
  {
   "attachments": {},
   "cell_type": "markdown",
   "metadata": {},
   "source": [
    "Q) Write a python program to detect if a point is inside a rectangle defined by points (x1,y1), (x2,y2), (x3,y3) and (x4,y4)."
   ]
  },
  {
   "cell_type": "code",
   "execution_count": 2,
   "metadata": {},
   "outputs": [],
   "source": [
    "def is_point_inside(corner_points: list[tuple[float, float]], new_point: tuple[float, float]) -> bool:\n",
    "    \"\"\"Return True if the new point is inside the rectange formed by given 4 corner points. Otherwise returns False.\n",
    "    Raises AssertionError if the 4 corner points do not form a rectangle.\n",
    "\n",
    "    Args:\n",
    "        corner_points (list[tuple[float, float]]): list of 4 corner points, in form (x, y)\n",
    "        new_point (tuple[float, float]): point to check, in form (x, y)\n",
    "\n",
    "    Returns:\n",
    "        bool: whether the point is inside the rectangle\n",
    "    \"\"\"\n",
    "\n",
    "    # seperating x co-ordinates\n",
    "    x_s: list[float] = [point[0] for point in corner_points]\n",
    "    # seperating y co-ordinates\n",
    "    y_s: list[float] = [point[1] for point in corner_points]\n",
    "\n",
    "    # verify rectangle\n",
    "    # 2 unique values for x co-ordinates\n",
    "    assert len(set(x_s)) == 2, \"Not a rectangle\"\n",
    "    # 2 unique values for y co-ordinates\n",
    "    assert len(set(y_s)) == 2, \"Not a rectangle\"\n",
    "    \n",
    "    # extracting min & max, x & y values\n",
    "    min_x = min(x_s)\n",
    "    min_y = min(y_s)\n",
    "    max_x = max(x_s)\n",
    "    max_y = max(y_s)\n",
    "\n",
    "    # checking if point in within x range and y range\n",
    "    if (new_point[0] > min_x and new_point[0] < max_x) and (new_point[1] > min_y and new_point[1] < max_y):\n",
    "        # if within range, return True\n",
    "        return True\n",
    "    \n",
    "    # other return False\n",
    "    return False"
   ]
  },
  {
   "cell_type": "code",
   "execution_count": 12,
   "metadata": {},
   "outputs": [],
   "source": [
    "# corner points\n",
    "p1 = (0.0, 0.0)\n",
    "p2 = (5.0, 0.0)\n",
    "p3 = (5.0, 3.0)\n",
    "p4 = (0.0, 3.0)\n",
    "\n",
    "# point to check\n",
    "p = (2.0, 2.0)"
   ]
  },
  {
   "cell_type": "code",
   "execution_count": 13,
   "metadata": {},
   "outputs": [
    {
     "data": {
      "text/plain": [
       "True"
      ]
     },
     "execution_count": 13,
     "metadata": {},
     "output_type": "execute_result"
    }
   ],
   "source": [
    "# calling our function\n",
    "is_point_inside([p1, p2, p3, p4], p)"
   ]
  },
  {
   "attachments": {},
   "cell_type": "markdown",
   "metadata": {},
   "source": [
    "<br>\n",
    "<br>\n",
    "<br>"
   ]
  },
  {
   "attachments": {},
   "cell_type": "markdown",
   "metadata": {},
   "source": [
    "Test Cases"
   ]
  },
  {
   "cell_type": "code",
   "execution_count": 32,
   "metadata": {},
   "outputs": [
    {
     "ename": "AssertionError",
     "evalue": "Not a rectangle",
     "output_type": "error",
     "traceback": [
      "\u001b[1;31m---------------------------------------------------------------------------\u001b[0m",
      "\u001b[1;31mAssertionError\u001b[0m                            Traceback (most recent call last)",
      "\u001b[1;32md:\\python\\playground\\notebook.ipynb Cell 6\u001b[0m in \u001b[0;36m<cell line: 9>\u001b[1;34m()\u001b[0m\n\u001b[0;32m      <a href='vscode-notebook-cell:/d%3A/python/playground/notebook.ipynb#X11sZmlsZQ%3D%3D?line=4'>5</a>\u001b[0m p4 \u001b[39m=\u001b[39m (\u001b[39m0.0\u001b[39m, \u001b[39m3.0\u001b[39m)\n\u001b[0;32m      <a href='vscode-notebook-cell:/d%3A/python/playground/notebook.ipynb#X11sZmlsZQ%3D%3D?line=6'>7</a>\u001b[0m p \u001b[39m=\u001b[39m (\u001b[39m2.0\u001b[39m, \u001b[39m2.0\u001b[39m)\n\u001b[1;32m----> <a href='vscode-notebook-cell:/d%3A/python/playground/notebook.ipynb#X11sZmlsZQ%3D%3D?line=8'>9</a>\u001b[0m is_point_inside([p1, p2, p3, p4], p)\n",
      "\u001b[1;32md:\\python\\playground\\notebook.ipynb Cell 6\u001b[0m in \u001b[0;36mis_point_inside\u001b[1;34m(corner_points, new_point)\u001b[0m\n\u001b[0;32m      <a href='vscode-notebook-cell:/d%3A/python/playground/notebook.ipynb#X11sZmlsZQ%3D%3D?line=8'>9</a>\u001b[0m \u001b[39massert\u001b[39;00m \u001b[39mlen\u001b[39m(\u001b[39mset\u001b[39m(x_s)) \u001b[39m==\u001b[39m \u001b[39m2\u001b[39m, \u001b[39m\"\u001b[39m\u001b[39mNot a rectangle\u001b[39m\u001b[39m\"\u001b[39m\n\u001b[0;32m     <a href='vscode-notebook-cell:/d%3A/python/playground/notebook.ipynb#X11sZmlsZQ%3D%3D?line=9'>10</a>\u001b[0m \u001b[39m# 2 unique values for y co-ordinates\u001b[39;00m\n\u001b[1;32m---> <a href='vscode-notebook-cell:/d%3A/python/playground/notebook.ipynb#X11sZmlsZQ%3D%3D?line=10'>11</a>\u001b[0m \u001b[39massert\u001b[39;00m \u001b[39mlen\u001b[39m(\u001b[39mset\u001b[39m(y_s)) \u001b[39m==\u001b[39m \u001b[39m2\u001b[39m, \u001b[39m\"\u001b[39m\u001b[39mNot a rectangle\u001b[39m\u001b[39m\"\u001b[39m\n\u001b[0;32m     <a href='vscode-notebook-cell:/d%3A/python/playground/notebook.ipynb#X11sZmlsZQ%3D%3D?line=12'>13</a>\u001b[0m \u001b[39m# extracting min & max, x & y values\u001b[39;00m\n\u001b[0;32m     <a href='vscode-notebook-cell:/d%3A/python/playground/notebook.ipynb#X11sZmlsZQ%3D%3D?line=13'>14</a>\u001b[0m min_x \u001b[39m=\u001b[39m \u001b[39mmin\u001b[39m(x_s)\n",
      "\u001b[1;31mAssertionError\u001b[0m: Not a rectangle"
     ]
    }
   ],
   "source": [
    "# corner points do not form a rectangle\n",
    "p1 = (0.0, 0.0)\n",
    "p2 = (5.0, 0.0)\n",
    "p3 = (5.0, 4.0)\n",
    "p4 = (0.0, 3.0)\n",
    "\n",
    "p = (2.0, 2.0)\n",
    "\n",
    "is_point_inside([p1, p2, p3, p4], p)"
   ]
  },
  {
   "cell_type": "code",
   "execution_count": 33,
   "metadata": {},
   "outputs": [
    {
     "data": {
      "text/plain": [
       "False"
      ]
     },
     "execution_count": 33,
     "metadata": {},
     "output_type": "execute_result"
    }
   ],
   "source": [
    "# new point is on the perimeter of the rectangle\n",
    "p1 = (0.0, 0.0)\n",
    "p2 = (5.0, 0.0)\n",
    "p3 = (5.0, 3.0)\n",
    "p4 = (0.0, 3.0)\n",
    "\n",
    "p = (2.0, 3.0)\n",
    "\n",
    "is_point_inside([p1, p2, p3, p4], p)"
   ]
  },
  {
   "cell_type": "code",
   "execution_count": 34,
   "metadata": {},
   "outputs": [
    {
     "data": {
      "text/plain": [
       "False"
      ]
     },
     "execution_count": 34,
     "metadata": {},
     "output_type": "execute_result"
    }
   ],
   "source": [
    "# new point is outside the rectangle\n",
    "p1 = (0.0, 0.0)\n",
    "p2 = (5.0, 0.0)\n",
    "p3 = (5.0, 3.0)\n",
    "p4 = (0.0, 3.0)\n",
    "\n",
    "p = (2.0, 8.0)\n",
    "\n",
    "is_point_inside([p1, p2, p3, p4], p)"
   ]
  },
  {
   "cell_type": "code",
   "execution_count": 35,
   "metadata": {},
   "outputs": [
    {
     "data": {
      "text/plain": [
       "True"
      ]
     },
     "execution_count": 35,
     "metadata": {},
     "output_type": "execute_result"
    }
   ],
   "source": [
    "# new point is inside the rectangle\n",
    "p1 = (0.0, 0.0)\n",
    "p2 = (5.0, 0.0)\n",
    "p3 = (5.0, 3.0)\n",
    "p4 = (0.0, 3.0)\n",
    "\n",
    "p = (2.0, 2.5)\n",
    "\n",
    "is_point_inside([p1, p2, p3, p4], p)"
   ]
  }
 ],
 "metadata": {
  "kernelspec": {
   "display_name": "machine_learning",
   "language": "python",
   "name": "python3"
  },
  "language_info": {
   "codemirror_mode": {
    "name": "ipython",
    "version": 3
   },
   "file_extension": ".py",
   "mimetype": "text/x-python",
   "name": "python",
   "nbconvert_exporter": "python",
   "pygments_lexer": "ipython3",
   "version": "3.10.8"
  },
  "orig_nbformat": 4,
  "vscode": {
   "interpreter": {
    "hash": "7e9e12bc012fae32ac9654bb37cb31a0d4c91164effa766e52fa90ec4ccf2e77"
   }
  }
 },
 "nbformat": 4,
 "nbformat_minor": 2
}
